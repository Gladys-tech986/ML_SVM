{
 "cells": [
  {
   "cell_type": "code",
   "execution_count": 1,
   "id": "36eea550-0c2f-49c2-af89-b0d4191181d7",
   "metadata": {},
   "outputs": [],
   "source": [
    "import pickle"
   ]
  },
  {
   "cell_type": "code",
   "execution_count": 3,
   "id": "5143d06e-d2ad-480a-871b-7e3f66756da2",
   "metadata": {},
   "outputs": [],
   "source": [
    "loaded_model=pickle.load (open(\"finalized_model_svm_linear.sav\",'rb'))\n",
    "result=loaded_model.predict([[23434,245,6634,0,1]])"
   ]
  },
  {
   "cell_type": "code",
   "execution_count": 5,
   "id": "7daf2263-4086-454a-92da-d776740d09cf",
   "metadata": {},
   "outputs": [
    {
     "data": {
      "text/plain": [
       "array([7.94398091e+08])"
      ]
     },
     "execution_count": 5,
     "metadata": {},
     "output_type": "execute_result"
    }
   ],
   "source": [
    "result"
   ]
  },
  {
   "cell_type": "code",
   "execution_count": null,
   "id": "de4045a8-c466-4b97-82ca-aed495ea5d6d",
   "metadata": {},
   "outputs": [],
   "source": []
  }
 ],
 "metadata": {
  "kernelspec": {
   "display_name": "Python 3 (ipykernel)",
   "language": "python",
   "name": "python3"
  },
  "language_info": {
   "codemirror_mode": {
    "name": "ipython",
    "version": 3
   },
   "file_extension": ".py",
   "mimetype": "text/x-python",
   "name": "python",
   "nbconvert_exporter": "python",
   "pygments_lexer": "ipython3",
   "version": "3.12.4"
  }
 },
 "nbformat": 4,
 "nbformat_minor": 5
}
